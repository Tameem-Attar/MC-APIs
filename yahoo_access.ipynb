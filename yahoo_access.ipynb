{
 "cells": [
  {
   "cell_type": "code",
   "execution_count": 1,
   "metadata": {},
   "outputs": [],
   "source": [
    "from requests import get, post\n",
    "import json\n",
    "import webbrowser\n",
    "import base64"
   ]
  },
  {
   "cell_type": "code",
   "execution_count": 2,
   "metadata": {},
   "outputs": [],
   "source": [
    "client_id = 'dj0yJmk9NDNhYm9KZUo2WnlKJmQ9WVdrOVVWWlJWRzkxWlZNbWNHbzlNQT09JnM9Y29uc3VtZXJzZWNyZXQmc3Y9MCZ4PWNh'\n",
    "client_secret = '614a06f4578dc11de643134a3cf116ebe140fb2b'\n",
    "base_url = 'https://api.login.yahoo.com/'"
   ]
  },
  {
   "cell_type": "code",
   "execution_count": 3,
   "metadata": {},
   "outputs": [],
   "source": [
    "code_url = f'oauth2/request_auth?client_id={client_id}&redirect_uri=oob&response_type=code&language=en-us'"
   ]
  },
  {
   "cell_type": "code",
   "execution_count": 4,
   "metadata": {},
   "outputs": [
    {
     "data": {
      "text/plain": [
       "True"
      ]
     },
     "execution_count": 4,
     "metadata": {},
     "output_type": "execute_result"
    }
   ],
   "source": [
    "webbrowser.open(base_url + code_url)"
   ]
  },
  {
   "cell_type": "code",
   "execution_count": 5,
   "metadata": {},
   "outputs": [
    {
     "name": "stdout",
     "output_type": "stream",
     "text": [
      "https://api.login.yahoo.com/oauth2/request_auth?client_id=dj0yJmk9NDNhYm9KZUo2WnlKJmQ9WVdrOVVWWlJWRzkxWlZNbWNHbzlNQT09JnM9Y29uc3VtZXJzZWNyZXQmc3Y9MCZ4PWNh&redirect_uri=oob&response_type=code&language=en-us\n"
     ]
    }
   ],
   "source": [
    "print(base_url + code_url)"
   ]
  },
  {
   "cell_type": "code",
   "execution_count": 6,
   "metadata": {},
   "outputs": [],
   "source": [
    "code='a4cgcs2'"
   ]
  },
  {
   "cell_type": "code",
   "execution_count": 84,
   "metadata": {},
   "outputs": [],
   "source": [
    "encoded = base64.b64encode((client_id + ':' + client_secret).encode(\"utf-8\"))\n",
    "headers = {\n",
    "    'Authorization': f'Basic {encoded.decode(\"utf-8\")}',\n",
    "    'Content-Type': 'application/x-www-form-urlencoded'\n",
    "}\n",
    "data = {\n",
    "    'grant_type': 'authorization_code',\n",
    "    'redirect_uri': 'oob',\n",
    "    'code': code\n",
    "}"
   ]
  },
  {
   "cell_type": "code",
   "execution_count": 85,
   "metadata": {},
   "outputs": [],
   "source": [
    "response = post(base_url + 'oauth2/get_token', headers=headers, data=data)"
   ]
  },
  {
   "cell_type": "code",
   "execution_count": 86,
   "metadata": {},
   "outputs": [
    {
     "data": {
      "text/plain": [
       "True"
      ]
     },
     "execution_count": 86,
     "metadata": {},
     "output_type": "execute_result"
    }
   ],
   "source": [
    "response.ok"
   ]
  },
  {
   "cell_type": "code",
   "execution_count": 87,
   "metadata": {},
   "outputs": [
    {
     "data": {
      "text/plain": [
       "{'access_token': 'b21jasCZvVFFiXpLl8LCEoFOzAQaXqtlhvbDugvL8MbcPETGqX5.9OIpjSNELxvzpPpSEbUBeGiEBSbnF.HsjNYCf7piCsqyQ5xiFSR2Ra0DmwrNPYZom.9WQGiHtTgkGCqFG3cCbRNcaKuanivP7QESoa0DvCFILRQD2I4ObDwpv8grrXU_z1kQL9QR5m69yh3KJDo6vHNGF4ukVF7KLNfQjS6xskYM1IEVVLBtxGOPhD41YkT6KLz_zkFgdKBfaEIM1GNAhv6X_IwQoqC4Mw3PwPbclpKph8sKc3aGnFDP74kUu5MHMjDgGjZFml5cvwXzhh.Fdx5DpmFvhPMWGDohatdIy4N1ipshyFiscFbAsg7fb8AGQ0o6EzojkQrrWUOsav7kiA37Euzj4GBFBmVkjBtsV_nYYR0anECag.3juk3eTokLs1WxFIZ8FlYwsmEt2qx8h9QLuwOHk6WUGv0zl7DceUm.rnAAuYKrYewpNC7vy38ArfrWbpyOqxOeLizvBWcI_meqyE1Bq77XXGUf2w1JSFwrnmHRVPIPULv6so7FGLVXDVtScgyCMZIt307w70YtzgmCmL.nlwkQq7NxzYHM_mmVYBhQIQqi78oOrX0L_ZFGrZcnNpuii_QHzUp8ce3EtEeZHJFhG3dtP1KDNR6WN2V3yYLzT6f8goyVETzVeXH1obbvSo9bf_ze98ZEdsh63FtumdDAnv_wU5JKM5I_bbdG77csdfEPRQpyHXki9VkEwCJxWUQ.Adkcw2N41mZrJgjvjX0ZOttU_m90tUK4my2WP4ni0cnP19OxLXoqhz.hKBvtejGgvP3ibv0nk7.kypc0.UCEV6yXZnjkEelWtqrFJJ4QDftkkTcR5QwpdQwSWno6Lc6x8p83ilMQKu58y1uazFFU63vVO7XiHia0dADxKqLNo_jTITExxhFkiPbOvhXB8QZRhjAwnbgMzc.bB2mMwKBK1gnJiP3ggEtrd1D2ZAR_7ClYd8qcWMJcvRL1kzd8mkGv558.XRRum4eyLDZCzwMW5hr97pgN5u7rdSa2NrPvPgA6to5hGNO0hTAGkagO5h760wjGZs360A--',\n",
       " 'refresh_token': 'AIQizmV6J6SPfWnkvyfTTMgsWzIQ~000~F0zs9AwQtaVCdsEbvVVSfM_ZqsyRocRK5XPo2_h9',\n",
       " 'expires_in': 3600,\n",
       " 'token_type': 'bearer'}"
      ]
     },
     "execution_count": 87,
     "metadata": {},
     "output_type": "execute_result"
    }
   ],
   "source": [
    "response.json()"
   ]
  },
  {
   "cell_type": "code",
   "execution_count": 88,
   "metadata": {},
   "outputs": [],
   "source": [
    "access_token = response.json()['access_token']\n",
    "refresh_token = response.json()['refresh_token']"
   ]
  },
  {
   "cell_type": "code",
   "execution_count": 89,
   "metadata": {},
   "outputs": [],
   "source": [
    "data = {\n",
    "    'grant_type': 'refresh_token',\n",
    "    'redirect_uri': 'oob',\n",
    "    'code': code,\n",
    "    'refresh_token': refresh_token\n",
    "}"
   ]
  },
  {
   "cell_type": "code",
   "execution_count": 90,
   "metadata": {},
   "outputs": [],
   "source": [
    "response = post(base_url + 'oauth2/get_token', headers=headers, data=data)"
   ]
  },
  {
   "cell_type": "code",
   "execution_count": 91,
   "metadata": {},
   "outputs": [],
   "source": [
    "access_token = response.json()['access_token']"
   ]
  },
  {
   "cell_type": "code",
   "execution_count": 92,
   "metadata": {},
   "outputs": [
    {
     "name": "stdout",
     "output_type": "stream",
     "text": [
      "dNz12aSZvVGwPxojbeebFkeY.0iOXTcMv0ErLojEkzVWw_Sfq07ffentn9gZvU16dNRIswqBGqs.HCHh0n0Hwrwry0FGbbjxVTgoBBSs0Zc_xy7z1ypQvuTw6EzBhGuhswsN_vW57wTn8d.xxx5D55rcodB_SsdVYfMEDM7FB_iqIW_htEIeJou2VXbT9sZNqY.njcZ8G1_qVTr9XES2U08yqHGphi6GchO.fXps4PGaoHVvN3CTJKgA6uvI4O0FtyeP2CRGbtHn2ybe1WDQ_Mqd_6hVQxoR1qDGrABvTHHuWvt5LonYSVem7fuHVvJ7waC9dtwa7olEcTE_q8j9leymrirDXWfU6nHnGF2apW8QHfqzQWhe.BUV_5AndRGpHcWV0drnB82ykRyTCkvHS9YQeUDja_hwsoGf4IYFtHoz7NT93Zb25uAV9bhIT9LL.CP25x.jqGUXJXK3MecnCw_Ay4HdnDAdYhVQ1aRL3_4ydVj1WNOJendKvKvd90fwMeu1uFwkIBN1pK.sJFWfuAJ83FCfEjFymM8ilEDRxz5ocIHNHjrbsCCnAVeEfpqF4K7hFfN7tng0d_jq9mKSUrIzTLWaNfvaFXOPo742oS.Wa0YLAJuooP7dB9Rcha6AoM5EYg.JsL7IjgfU4Pu_su5_4tQRQE_4qKewlWj1jApJF6yMDChOm_y1G2QdG5Edpg2l8A6vp9r_PFTqIYKyKYdKCMjxUmc0AW2hPEv3T4wWDh_w0IoP4cBmgHxgeavacmmvetea3.9_fjIOQdvpoGX2aYFynXkifIjZ83oCiA19knCrahID00pTEycVnwgINUWCWzIn98e4LleEI9w0cBa7Ea1UQj3Nvsf4bj4Kdqsv7FC8NaMKU8orGi.IIq0IosCK4pDdHMVinC9zeUQve2wwh2q6M.QtPn3iUUdGAKdHkidrSkklPir8FtWYGRJiKRpasG9p1mEUHulNP544OiUncfD8bqYC1gHMPzBIYOjIeQ9EAEquJpQYBD3ZRBhB1Npxzqo_RtxWzBb87dnDiPRGO0J107Svo._d6u.PNRrulHOXIlWCS9H2I7hVhDBAAfZWeaw-\n"
     ]
    }
   ],
   "source": [
    "print(access_token)"
   ]
  },
  {
   "cell_type": "code",
   "execution_count": 93,
   "metadata": {},
   "outputs": [],
   "source": [
    "headers = {\n",
    "    'Authorization': f'Bearer {access_token}',\n",
    "    'Accept': 'application/json',\n",
    "    'Content-Type': 'application/json'\n",
    "}"
   ]
  },
  {
   "cell_type": "code",
   "execution_count": 103,
   "metadata": {},
   "outputs": [],
   "source": [
    "response = get('https://api.gemini.yahoo.com/v3/rest/advertiser/87292', headers=headers)"
   ]
  },
  {
   "cell_type": "code",
   "execution_count": 104,
   "metadata": {},
   "outputs": [
    {
     "data": {
      "text/plain": [
       "True"
      ]
     },
     "execution_count": 104,
     "metadata": {},
     "output_type": "execute_result"
    }
   ],
   "source": [
    "response.ok"
   ]
  },
  {
   "cell_type": "code",
   "execution_count": 105,
   "metadata": {},
   "outputs": [
    {
     "data": {
      "text/plain": [
       "{'id': None,\n",
       " 'advertiserName': None,\n",
       " 'timezone': None,\n",
       " 'trackingUrl': None,\n",
       " 'currency': None,\n",
       " 'bookingCountry': None,\n",
       " 'billingCountry': None,\n",
       " 'type': None,\n",
       " 'managedBy': None,\n",
       " 'webSiteUrl': None,\n",
       " 'lastUpdateDate': None,\n",
       " 'createdDate': None,\n",
       " 'status': None,\n",
       " 'budgetType': None,\n",
       " 'budget': None,\n",
       " 'previousBudgetType': None,\n",
       " 'previousBudget': None,\n",
       " 'dspAdId': None}"
      ]
     },
     "execution_count": 105,
     "metadata": {},
     "output_type": "execute_result"
    }
   ],
   "source": [
    "response.json()['response']"
   ]
  },
  {
   "cell_type": "code",
   "execution_count": null,
   "metadata": {},
   "outputs": [],
   "source": [
    "\n",
    "\n"
   ]
  }
 ],
 "metadata": {
  "kernelspec": {
   "display_name": "Python 3",
   "language": "python",
   "name": "python3"
  },
  "language_info": {
   "codemirror_mode": {
    "name": "ipython",
    "version": 3
   },
   "file_extension": ".py",
   "mimetype": "text/x-python",
   "name": "python",
   "nbconvert_exporter": "python",
   "pygments_lexer": "ipython3",
   "version": "3.8.0"
  }
 },
 "nbformat": 4,
 "nbformat_minor": 2
}
