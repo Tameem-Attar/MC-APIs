{
 "cells": [
  {
   "cell_type": "code",
   "execution_count": 4,
   "metadata": {},
   "outputs": [
    {
     "name": "stdout",
     "output_type": "stream",
     "text": [
      "{'sp_trace_id': 'ca25f1fa-8964-4855-81af-58ba301ffa73', 'messages': ['Client ID <bc9d27357d6b4bb5a700bb99a1a27e8e> is not allow-listed']}\n"
     ]
    }
   ],
   "source": [
    "import requests\n",
    "\n",
    "\n",
    "client_id = \"bc9d27357d6b4bb5a700bb99a1a27e8e\"\n",
    "client_secret = \"b4cd13b4e5c142a7b0862eb06891a96b\"\n",
    "access_token = \"BQDX3OyWiYfb-79OOalXYTPpyk166hjQe9DiFmhc3i4OUclQm8l-sMhts93hpUsQRMFC3GrBWe5MrzC9w9xeLWTkQNWgtSEY7OELdw5YMAe9fskc160ACtZTxTWUiiam1ZjBg2n_pWTi4WZWGSkgristqoI17NxRuPgRR1j0afvUw7c2xlDs5KwVFSWKEJXX43WvRQ\"\n",
    "\n",
    "url = \"https://api-partner.spotify.com/ads/v2/ad_accounts\"\n",
    "headers = {\n",
    "    \"Authorization\": f\"Bearer {access_token}\"\n",
    "}\n",
    "\n",
    "response = requests.get(url, headers=headers)\n",
    "\n",
    "print(response.json())\n"
   ]
  },
  {
   "cell_type": "code",
   "execution_count": null,
   "metadata": {},
   "outputs": [],
   "source": []
  }
 ],
 "metadata": {
  "kernelspec": {
   "display_name": "Python 3",
   "language": "python",
   "name": "python3"
  },
  "language_info": {
   "codemirror_mode": {
    "name": "ipython",
    "version": 3
   },
   "file_extension": ".py",
   "mimetype": "text/x-python",
   "name": "python",
   "nbconvert_exporter": "python",
   "pygments_lexer": "ipython3",
   "version": "3.8.0"
  }
 },
 "nbformat": 4,
 "nbformat_minor": 2
}
