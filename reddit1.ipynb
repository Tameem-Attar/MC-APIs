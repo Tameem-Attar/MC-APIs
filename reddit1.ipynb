{
 "cells": [
  {
   "cell_type": "code",
   "execution_count": 1,
   "metadata": {},
   "outputs": [],
   "source": [
    "import praw\n",
    "import pandas as pd\n",
    "reddit = praw.Reddit(client_id='oKmSUMJ2tXwyJaRdRhQRcA',\n",
    "                     client_secret='952Ys-wz7KcRL6YfWXUxfrF9bg7tKg',\n",
    "                     user_agent='mastercard-test 1.0 by /u/Front-Bat-6555',\n",
    "                     check_for_async=False)"
   ]
  },
  {
   "cell_type": "code",
   "execution_count": 2,
   "metadata": {},
   "outputs": [],
   "source": [
    "subreddit_name = 'mastercard'\n",
    "subreddit = reddit.subreddit(subreddit_name)\n",
    "hot_posts = subreddit.hot(limit=100)"
   ]
  },
  {
   "cell_type": "code",
   "execution_count": 3,
   "metadata": {},
   "outputs": [
    {
     "name": "stdout",
     "output_type": "stream",
     "text": [
      "   Campaign ID Campaign Name  \\\n",
      "0      1766mpi    t3_1766mpi   \n",
      "1      16wyq6s    t3_16wyq6s   \n",
      "2      16n4isd    t3_16n4isd   \n",
      "3      16n4ibz    t3_16n4ibz   \n",
      "4      16ioecg    t3_16ioecg   \n",
      "..         ...           ...   \n",
      "71      gfnd2y     t3_gfnd2y   \n",
      "72      f9krbp     t3_f9krbp   \n",
      "73      dcrce3     t3_dcrce3   \n",
      "74      9hvlop     t3_9hvlop   \n",
      "75      84injw     t3_84injw   \n",
      "\n",
      "                                       Campaign Title       Campaign Author  \\\n",
      "0   Are there any major merchants that don’t accep...        evil_chicken86   \n",
      "1                   Purchase fee MasterCard gift card  Top-Performance-2219   \n",
      "2                mastercard declined?? please help :(         Cold_Fact_119   \n",
      "3                mastercard declined?? please help :(         Cold_Fact_119   \n",
      "4   Is IHG Mastercard world elite eligible for a f...            aykalam123   \n",
      "..                                                ...                   ...   \n",
      "71  I wasn't able to make purchases with my egift ...            GS4_4_LIFE   \n",
      "72  MasterCard Stock (MA) Drops 4% as Company Pred...           TCR_Roberts   \n",
      "73                          Customer Service COSTS???               FawkHew   \n",
      "74                                   Mastercard sucks        SomeGuyAtApple   \n",
      "75                           New commercial please...          tharealhomie   \n",
      "\n",
      "    Campaign Score  Campaign Created UTC  \\\n",
      "0                2          1.697116e+09   \n",
      "1                3          1.696160e+09   \n",
      "2                2          1.695163e+09   \n",
      "3                2          1.695163e+09   \n",
      "4                2          1.694712e+09   \n",
      "..             ...                   ...   \n",
      "71               1          1.588917e+09   \n",
      "72               1          1.582679e+09   \n",
      "73               3          1.570111e+09   \n",
      "74               2          1.537577e+09   \n",
      "75               2          1.521076e+09   \n",
      "\n",
      "                                         Campaign URL  \n",
      "0   https://www.reddit.com/r/Mastercard/comments/1...  \n",
      "1   https://www.reddit.com/r/Mastercard/comments/1...  \n",
      "2   https://www.reddit.com/r/Mastercard/comments/1...  \n",
      "3                 https://i.redd.it/klk1ohekhapb1.jpg  \n",
      "4   https://www.reddit.com/r/Mastercard/comments/1...  \n",
      "..                                                ...  \n",
      "71  https://www.reddit.com/r/Mastercard/comments/g...  \n",
      "72  https://thecoinrise.com/mastercard-stock-ma-dr...  \n",
      "73  https://www.reddit.com/r/Mastercard/comments/d...  \n",
      "74  https://www.reddit.com/r/Mastercard/comments/9...  \n",
      "75  https://www.reddit.com/r/Mastercard/comments/8...  \n",
      "\n",
      "[76 rows x 7 columns]\n"
     ]
    }
   ],
   "source": [
    "data = []\n",
    "for campaign in hot_posts:\n",
    "    data.append({\n",
    "        \"Campaign ID\": campaign.id,\n",
    "        \"Campaign Name\": campaign.name,\n",
    "        \"Campaign Title\": campaign.title,\n",
    "        \"Campaign Author\": str(campaign.author),\n",
    "        \"Campaign Score\": campaign.score,\n",
    "        \"Campaign Created UTC\": campaign.created_utc,\n",
    "        \"Campaign URL\": campaign.url\n",
    "    })\n",
    "\n",
    "df = pd.DataFrame(data)\n",
    "print(df)\n"
   ]
  },
  {
   "cell_type": "code",
   "execution_count": 49,
   "metadata": {},
   "outputs": [],
   "source": [
    "df.to_csv('reddit_data.csv', index=False)"
   ]
  },
  {
   "cell_type": "code",
   "execution_count": null,
   "metadata": {},
   "outputs": [],
   "source": []
  }
 ],
 "metadata": {
  "kernelspec": {
   "display_name": "Python 3",
   "language": "python",
   "name": "python3"
  },
  "language_info": {
   "codemirror_mode": {
    "name": "ipython",
    "version": 3
   },
   "file_extension": ".py",
   "mimetype": "text/x-python",
   "name": "python",
   "nbconvert_exporter": "python",
   "pygments_lexer": "ipython3",
   "version": "3.8.0"
  }
 },
 "nbformat": 4,
 "nbformat_minor": 2
}
