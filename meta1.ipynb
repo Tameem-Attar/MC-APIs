{
 "cells": [
  {
   "cell_type": "code",
   "execution_count": 68,
   "metadata": {},
   "outputs": [
    {
     "name": "stdout",
     "output_type": "stream",
     "text": [
      "Error: 400 - {\"error\":{\"message\":\"(#100) app_id is not valid for fields param. please check https:\\/\\/developers.facebook.com\\/docs\\/marketing-api\\/reference\\/ads-insights\\/ for all valid values\",\"type\":\"OAuthException\",\"code\":100,\"fbtrace_id\":\"AIq1zmuX4NuYd4kTre4JGMv\"}}\n"
     ]
    }
   ],
   "source": [
    "import requests\n",
    "access_token = 'EAATflmJ1eJkBOZBaB0XsmJDA4e9fZADBFZB5RXiGEAAbcZBBw7C3DA8TXxDfGFZBsOGgelMuWz0vEpXIxdEs0wa3ABZBN6fBX8SrDzZAFGxaLZAVX7ZC1I39ZAFOR29KDSRCP5uQJySdYGyEkauMeOaBBYoAYOYc5IG9NN7xZBQ2oRmBmfMJIsAeOZASlCuZBizj8KhXcceg4dHcjV7eorWF84FRH15ZAiqgZDZD'\n",
    "\n",
    "#fields = ['id', 'name', 'email','first_name','last_name', 'installed','install_type']\n",
    "fields = ['id', 'name', 'adaccounts{insights{account_id,account_name,ad_name,adset_id,adset_name,campaign_id,campaign_name,clicks,conversions,conversion_values,conversion_rate_ranking,app_id,cost_per_inline_link_click,cpc,cpm,cpp,ctr,impressions,spend,social_spend,reach}}']\n",
    "\n",
    "params = {\n",
    "    'access_token': access_token,\n",
    "    'fields': ','.join(fields)\n",
    "}\n",
    "url = 'https://graph.facebook.com/v13.0/me'\n",
    "response = requests.get(url, params=params)\n",
    "\n",
    "\n",
    "if response.status_code == 200:\n",
    "    print(response.json())\n",
    "else:\n",
    "    print(f\"Error: {response.status_code} - {response.text}\")\n"
   ]
  },
  {
   "cell_type": "code",
   "execution_count": 3,
   "metadata": {},
   "outputs": [],
   "source": [
    "url='https://graph.facebook.com/v18.0/act_701970735050548/insights'\n",
    "response = requests.get(url)"
   ]
  },
  {
   "cell_type": "code",
   "execution_count": 4,
   "metadata": {},
   "outputs": [
    {
     "name": "stdout",
     "output_type": "stream",
     "text": [
      "Error: 403 - {\"error\":{\"message\":\"(#200) Provide valid app ID\",\"type\":\"OAuthException\",\"code\":200,\"fbtrace_id\":\"AsjpAxQZxasWekym6QjVWlS\"}}\n"
     ]
    }
   ],
   "source": [
    "if response.status_code == 200:\n",
    "    print(response.json())\n",
    "else:\n",
    "    print(f\"Error: {response.status_code} - {response.text}\")"
   ]
  },
  {
   "cell_type": "code",
   "execution_count": 15,
   "metadata": {},
   "outputs": [
    {
     "name": "stdout",
     "output_type": "stream",
     "text": [
      "HTTP error occurred: 400 Client Error: Bad Request for url: https://graph.facebook.com/v18.0/insights?access_token=EAATflmJ1eJkBOwZClwO41y77eKBvp28pNY1SOxmxLV9LbM2G9K0FfZC0scWcd6PCMnQbsY7HTt3F8cPuZAEdBRwJ9ptxahh4xI2UrbgYCfJu3OcPU69t78QXKR8Ae5nCZCLFZBHvHM9vsVyKNuOHSCOBBvqW2WVecKFaDsbZC22ZAdNEsqMoSZBICZAyN7YY7kP9hK6JNXTSEPgwp8s4G9gRVreWmUnSHnisg4K4ZD&fields=account_id%2Caccount_name%2Cad_id%2Ccampaign_id&time_range=since&time_range=until\n"
     ]
    }
   ],
   "source": [
    "import requests\n",
    "\n",
    "access_token = 'EAATflmJ1eJkBOwZClwO41y77eKBvp28pNY1SOxmxLV9LbM2G9K0FfZC0scWcd6PCMnQbsY7HTt3F8cPuZAEdBRwJ9ptxahh4xI2UrbgYCfJu3OcPU69t78QXKR8Ae5nCZCLFZBHvHM9vsVyKNuOHSCOBBvqW2WVecKFaDsbZC22ZAdNEsqMoSZBICZAyN7YY7kP9hK6JNXTSEPgwp8s4G9gRVreWmUnSHnisg4K4ZD'\n",
    "\n",
    "fields = ['account_id', 'account_name','ad_id','campaign_id']\n",
    "params = {\n",
    "    'access_token': access_token,\n",
    "    'fields': ','.join(fields),\n",
    "    'time_range': {'since': '2024-01-20', 'until': '2024-02-19'}\n",
    "}\n",
    "\n",
    "url = 'https://graph.facebook.com/v18.0/act_701970735050548/insights'\n",
    "try:\n",
    "    response = requests.get(url, params=params)\n",
    "    response.raise_for_status()  # Raise an exception for 4xx or 5xx status codes\n",
    "    data = response.json()\n",
    "    print(data)\n",
    "except requests.exceptions.HTTPError as err:\n",
    "    print(f\"HTTP error occurred: {err}\")\n",
    "except Exception as e:\n",
    "    print(f\"An unexpected error occurred: {e}\")\n"
   ]
  },
  {
   "cell_type": "code",
   "execution_count": 39,
   "metadata": {},
   "outputs": [
    {
     "name": "stdout",
     "output_type": "stream",
     "text": [
      "{'error': {'message': 'Unknown path components: /campaign', 'type': 'OAuthException', 'code': 2500, 'fbtrace_id': 'ADaNjHg4OzFgAvcenysOBS4'}}\n"
     ]
    }
   ],
   "source": [
    "import requests\n",
    "\n",
    "# Define the endpoint URL\n",
    "url = \"https://graph.facebook.com/v13.0/act_701970735050548/insights\"\n",
    "\n",
    "# Define the parameters\n",
    "# params = {\n",
    "#     'access_token': 'EAATflmJ1eJkBOwZClwO41y77eKBvp28pNY1SOxmxLV9LbM2G9K0FfZC0scWcd6PCMnQbsY7HTt3F8cPuZAEdBRwJ9ptxahh4xI2UrbgYCfJu3OcPU69t78QXKR8Ae5nCZCLFZBHvHM9vsVyKNuOHSCOBBvqW2WVecKFaDsbZC22ZAdNEsqMoSZBICZAyN7YY7kP9hK6JNXTSEPgwp8s4G9gRVreWmUnSHnisg4K4ZD',\n",
    "#         'fields': 'id,name,status,insights.date_preset(last_3d).fields(impressions,reach,clicks,cpc,cpm,ctr,frequency,spend,actions,unique_clicks,unique_ctr)'\n",
    "\n",
    "# }\n",
    "\n",
    "params = {\n",
    "    'access_token': 'EAATflmJ1eJkBOwZClwO41y77eKBvp28pNY1SOxmxLV9LbM2G9K0FfZC0scWcd6PCMnQbsY7HTt3F8cPuZAEdBRwJ9ptxahh4xI2UrbgYCfJu3OcPU69t78QXKR8Ae5nCZCLFZBHvHM9vsVyKNuOHSCOBBvqW2WVecKFaDsbZC22ZAdNEsqMoSZBICZAyN7YY7kP9hK6JNXTSEPgwp8s4G9gRVreWmUnSHnisg4K4ZD',\n",
    "        'fields': 'id,name,status,insights.date_preset(last_3d).fields(impressions,reach,clicks,cpc,cpm,ctr,frequency,spend,actions,unique_clicks,unique_ctr)'\n",
    "\n",
    "}\n",
    "\n",
    "\n",
    "# Send the GET request\n",
    "response = requests.get(url, params=params)\n",
    "\n",
    "# Print the response\n",
    "print(response.json())\n"
   ]
  },
  {
   "cell_type": "code",
   "execution_count": 22,
   "metadata": {},
   "outputs": [],
   "source": [
    "import pandas as pd\n",
    "# Normalize the JSON data and convert it to a DataFrame\n",
    "df = pd.json_normalize(data['data'])\n",
    "\n",
    "# Write the DataFrame to a CSV file\n",
    "df.to_csv('campaign_data.csv', index=False)"
   ]
  },
  {
   "cell_type": "code",
   "execution_count": 64,
   "metadata": {},
   "outputs": [
    {
     "name": "stdout",
     "output_type": "stream",
     "text": [
      "Ad Insights Data:\n",
      "{'data': []}\n"
     ]
    }
   ],
   "source": [
    "import requests\n",
    "\n",
    "# Define your access token and ad account ID\n",
    "access_token = 'EAATflmJ1eJkBOZBaB0XsmJDA4e9fZADBFZB5RXiGEAAbcZBBw7C3DA8TXxDfGFZBsOGgelMuWz0vEpXIxdEs0wa3ABZBN6fBX8SrDzZAFGxaLZAVX7ZC1I39ZAFOR29KDSRCP5uQJySdYGyEkauMeOaBBYoAYOYc5IG9NN7xZBQ2oRmBmfMJIsAeOZASlCuZBizj8KhXcceg4dHcjV7eorWF84FRH15ZAiqgZDZD'\n",
    "\n",
    "ad_account_id = '701970735050548'\n",
    "\n",
    "# Make API call to retrieve ad insights\n",
    "ad_insights_endpoint = f'https://graph.facebook.com/v13.0/act_{ad_account_id}/insights'\n",
    "ad_insights_params = {\n",
    "    'access_token': access_token,\n",
    "    'fields': 'reach,spend',  # Example: include insights such as reach and spend\n",
    "    # Add more parameters as needed\n",
    "}\n",
    "ad_insights_response = requests.get(ad_insights_endpoint, params=ad_insights_params)\n",
    "ad_insights_data = ad_insights_response.json()\n",
    "\n",
    "# Process the retrieved data\n",
    "print(\"Ad Insights Data:\")\n",
    "print(ad_insights_data)\n"
   ]
  },
  {
   "cell_type": "code",
   "execution_count": 82,
   "metadata": {},
   "outputs": [
    {
     "name": "stdout",
     "output_type": "stream",
     "text": [
      "{'data': [{'account_id': '701970735050548', 'account_name': '[Mastecard] PicPay - Crédito Garantido', 'clicks': '940342', 'conversions': [{'action_type': 'submit_application_total', 'value': '206752'}, {'action_type': 'submit_application_mobile_app', 'value': '206752'}], 'conversion_rate_ranking': 'UNKNOWN', 'cost_per_inline_link_click': '2.185485', 'cpc': '1.816941', 'cpm': '4.389245', 'cpp': '22.942746', 'ctr': '0.241573', 'impressions': '389257445', 'spend': '1708546.34', 'social_spend': '7068.11', 'reach': '74470003', 'date_start': '2023-01-01', 'date_stop': '2023-12-31'}], 'paging': {'cursors': {'before': 'MAZDZD', 'after': 'MAZDZD'}}}\n"
     ]
    }
   ],
   "source": [
    "import requests\n",
    "access_token = 'EAATflmJ1eJkBOzAZCOkEyVgyqyP9pxHocjzQ3hBFkHm8oBuE0sPPLjVQa2APL7DajBoMl8ECwgKLtROs1khmc0tGqm5jDBiUulhFvySXRHqOemxZAPuVlK96awZAYim4ouiX35ejZAXZBCAzRzo4bZBQH3CGcHetnBJDKGqG6veoSmqJUZB4Y2uzfjf6zVhHAlZBe8DvXXquFVbaGI53TVIHrZCjoZC2MZD'\n",
    "\n",
    "ad_account_id = '701970735050548'\n",
    "\n",
    "\n",
    "# Define the API endpoint\n",
    "url = f\"https://graph.facebook.com/v13.0/act_{ad_account_id}/insights\"\n",
    "\n",
    "# Define the parameters\n",
    "params = {\n",
    "    'access_token': access_token,\n",
    "    'date_preset': 'last_year',\n",
    "    'fields': 'account_id,account_name,ad_id,ad_name,campaign_id,campaign_name,adset_id,adset_name,clicks,conversions,conversion_values,conversion_rate_ranking,cost_per_inline_link_click,cpc,cpm,cpp,ctr,impressions,spend,social_spend,reach'\n",
    "}\n",
    "\n",
    "# Make the API request\n",
    "response = requests.get(url, params=params)\n",
    "\n",
    "# Print the response\n",
    "print(response.json())\n"
   ]
  },
  {
   "cell_type": "code",
   "execution_count": 62,
   "metadata": {},
   "outputs": [
    {
     "name": "stdout",
     "output_type": "stream",
     "text": [
      "Campaign ID: 120201866166750178, Campaign Name: jussi_pp-master_reposicionamento__institucional_performance_fb-ig_social_advantagecampaing Campanha\n",
      "{'data': [{'account_id': '701970735050548', 'account_name': '[Mastecard] PicPay - Crédito Garantido', 'campaign_id': '120201866166750178', 'campaign_name': 'jussi_pp-master_reposicionamento__institucional_performance_fb-ig_social_advantagecampaing Campanha', 'clicks': '46035', 'conversions': [{'action_type': 'submit_application_total', 'value': '14012'}, {'action_type': 'submit_application_mobile_app', 'value': '14012'}], 'conversion_rate_ranking': 'UNKNOWN', 'cost_per_inline_link_click': '2.932655', 'cpc': '2.100032', 'cpm': '2.226064', 'cpp': '8.749625', 'ctr': '0.106001', 'impressions': '43428654', 'spend': '96674.96', 'social_spend': '77.25', 'reach': '11049040', 'date_start': '2023-01-01', 'date_stop': '2023-12-31'}], 'paging': {'cursors': {'before': 'MAZDZD', 'after': 'MAZDZD'}}}\n",
      "Campaign ID: 120200499753020178, Campaign Name: jussi_pp-master_reposicionamento__institucional_performance_fb-ig_social_teste\n",
      "{'data': [{'account_id': '701970735050548', 'account_name': '[Mastecard] PicPay - Crédito Garantido', 'campaign_id': '120200499753020178', 'campaign_name': 'jussi_pp-master_reposicionamento__institucional_performance_fb-ig_social_teste', 'clicks': '24561', 'conversions': [{'action_type': 'submit_application_total', 'value': '8053'}, {'action_type': 'submit_application_mobile_app', 'value': '8053'}], 'conversion_rate_ranking': 'UNKNOWN', 'cost_per_inline_link_click': '2.74545', 'cpc': '2.526136', 'cpm': '8.789179', 'cpp': '25.738677', 'ctr': '0.34793', 'impressions': '7059183', 'spend': '62044.42', 'social_spend': '107.8', 'reach': '2410552', 'date_start': '2023-01-01', 'date_stop': '2023-12-31'}], 'paging': {'cursors': {'before': 'MAZDZD', 'after': 'MAZDZD'}}}\n",
      "Campaign ID: 23861756909470177, Campaign Name: jussi_pp-master_reposicionamento__institucional_performance_fb-ig_social\n",
      "{'data': [{'account_id': '701970735050548', 'account_name': '[Mastecard] PicPay - Crédito Garantido', 'campaign_id': '23861756909470177', 'campaign_name': 'jussi_pp-master_reposicionamento__institucional_performance_fb-ig_social', 'clicks': '191350', 'conversions': [{'action_type': 'submit_application_total', 'value': '37223'}, {'action_type': 'submit_application_mobile_app', 'value': '37223'}], 'conversion_rate_ranking': 'UNKNOWN', 'cost_per_inline_link_click': '1.757276', 'cpc': '1.672328', 'cpm': '7.657767', 'cpp': '35.833071', 'ctr': '0.457911', 'impressions': '41787641', 'spend': '320000', 'social_spend': '1888.08', 'reach': '8930298', 'date_start': '2023-01-01', 'date_stop': '2023-12-31'}], 'paging': {'cursors': {'before': 'MAZDZD', 'after': 'MAZDZD'}}}\n",
      "Campaign ID: 23857586243150177, Campaign Name: jussi_pp-master_reposicionamento__institucional_aquisicao_fb-ig_social\n",
      "{'data': [{'account_id': '701970735050548', 'account_name': '[Mastecard] PicPay - Crédito Garantido', 'campaign_id': '23857586243150177', 'campaign_name': 'jussi_pp-master_reposicionamento__institucional_aquisicao_fb-ig_social', 'clicks': '492566', 'conversions': [{'action_type': 'submit_application_total', 'value': '147464'}, {'action_type': 'submit_application_mobile_app', 'value': '147464'}], 'conversion_rate_ranking': 'UNKNOWN', 'cost_per_inline_link_click': '2.187275', 'cpc': '1.913038', 'cpm': '7.040731', 'cpp': '45.120735', 'ctr': '0.368039', 'impressions': '133835215', 'spend': '942297.69', 'social_spend': '1327.23', 'reach': '20883917', 'date_start': '2023-01-01', 'date_stop': '2023-12-31'}], 'paging': {'cursors': {'before': 'MAZDZD', 'after': 'MAZDZD'}}}\n",
      "Campaign ID: 23857298773760177, Campaign Name: jussi_pp-master_reposicionamento__institucional_awareness_fb-ig_social\n",
      "{'data': [{'account_id': '701970735050548', 'account_name': '[Mastecard] PicPay - Crédito Garantido', 'campaign_id': '23857298773760177', 'campaign_name': 'jussi_pp-master_reposicionamento__institucional_awareness_fb-ig_social', 'clicks': '185830', 'conversion_rate_ranking': 'UNKNOWN', 'cost_per_inline_link_click': '2.537837', 'cpc': '1.54727', 'cpm': '1.762397', 'cpp': '4.974249', 'ctr': '0.113904', 'impressions': '163146752', 'spend': '287529.27', 'social_spend': '3667.75', 'reach': '57803553', 'date_start': '2023-01-01', 'date_stop': '2023-12-31'}], 'paging': {'cursors': {'before': 'MAZDZD', 'after': 'MAZDZD'}}}\n"
     ]
    }
   ],
   "source": [
    "import requests\n",
    "\n",
    "access_token = 'EAATflmJ1eJkBOZBaB0XsmJDA4e9fZADBFZB5RXiGEAAbcZBBw7C3DA8TXxDfGFZBsOGgelMuWz0vEpXIxdEs0wa3ABZBN6fBX8SrDzZAFGxaLZAVX7ZC1I39ZAFOR29KDSRCP5uQJySdYGyEkauMeOaBBYoAYOYc5IG9NN7xZBQ2oRmBmfMJIsAeOZASlCuZBizj8KhXcceg4dHcjV7eorWF84FRH15ZAiqgZDZD'\n",
    "ad_account_id = '701970735050548'\n",
    "\n",
    "# Define the API endpoint for campaigns\n",
    "campaigns_url = f\"https://graph.facebook.com/v13.0/act_{ad_account_id}/campaigns\"\n",
    "\n",
    "# Define the parameters for campaigns\n",
    "campaigns_params = {\n",
    "    'access_token': access_token,\n",
    "    'fields': 'id,name'\n",
    "}\n",
    "\n",
    "# Make the API request for campaigns\n",
    "campaigns_response = requests.get(campaigns_url, params=campaigns_params)\n",
    "\n",
    "# Get the campaign data\n",
    "campaigns_data = campaigns_response.json()['data']\n",
    "\n",
    "# Iterate over each campaign\n",
    "for campaign in campaigns_data:\n",
    "    # Get the campaign ID and name\n",
    "    campaign_id = campaign['id']\n",
    "    campaign_name = campaign['name']\n",
    "\n",
    "    # Define the API endpoint for insights\n",
    "    insights_url = f\"https://graph.facebook.com/v13.0/{campaign_id}/insights\"\n",
    "\n",
    "    # Define the parameters for insights\n",
    "    insights_params = {\n",
    "        'access_token': access_token,\n",
    "        'date_preset': 'last_year',\n",
    "        'fields': 'account_id,account_name,ad_id,ad_name,campaign_id,campaign_name,adset_id,adset_name,clicks,conversions,conversion_values,conversion_rate_ranking,cost_per_inline_link_click,cpc,cpm,cpp,ctr,impressions,spend,social_spend,reach'\n",
    "    }\n",
    "\n",
    "    # Make the API request for insights\n",
    "    insights_response = requests.get(insights_url, params=insights_params)\n",
    "\n",
    "    # Print the insights data for the campaign\n",
    "    print(f\"Campaign ID: {campaign_id}, Campaign Name: {campaign_name}\")\n",
    "    print(insights_response.json())\n"
   ]
  },
  {
   "cell_type": "code",
   "execution_count": 72,
   "metadata": {},
   "outputs": [
    {
     "ename": "ModuleNotFoundError",
     "evalue": "No module named 'facebook_business.objects'",
     "output_type": "error",
     "traceback": [
      "\u001b[1;31m---------------------------------------------------------------------------\u001b[0m",
      "\u001b[1;31mModuleNotFoundError\u001b[0m                       Traceback (most recent call last)",
      "Cell \u001b[1;32mIn[72], line 1\u001b[0m\n\u001b[1;32m----> 1\u001b[0m \u001b[38;5;28;01mfrom\u001b[39;00m \u001b[38;5;21;01mfacebook_business\u001b[39;00m\u001b[38;5;21;01m.\u001b[39;00m\u001b[38;5;21;01mobjects\u001b[39;00m \u001b[38;5;28;01mimport\u001b[39;00m AdCampaign\n\u001b[0;32m      3\u001b[0m campaign \u001b[38;5;241m=\u001b[39m AdCampaign(\u001b[38;5;124m'\u001b[39m\u001b[38;5;124m120201866166750178\u001b[39m\u001b[38;5;124m'\u001b[39m)\n\u001b[0;32m      4\u001b[0m access_token \u001b[38;5;241m=\u001b[39m \u001b[38;5;124m'\u001b[39m\u001b[38;5;124myEAATflmJ1eJkBOylgTw08nEC0pNdLe1eS0TfFB3prZBxZCEmkeVS48oBIMzZAE4OTFXCshi9XUvEZABpyXKdKXls9nTrFN47FoSZBZAfSpNjZBkL3kbSLZBwG5DngSK80G1pa0ZBus1s7MaLEvPenYPkHSsOs6FXZAbOJZBnIzisQP1nnco7NbFe44v60abo4AGZAcRHt9dZCewhpfsIeRkoyYuU1lQZC3KTAZDZD\u001b[39m\u001b[38;5;124m'\u001b[39m\n",
      "\u001b[1;31mModuleNotFoundError\u001b[0m: No module named 'facebook_business.objects'"
     ]
    }
   ],
   "source": [
    "from facebook_business.objects import AdCampaign\n",
    "\n",
    "campaign = AdCampaign('120201866166750178')\n",
    "access_token = 'yEAATflmJ1eJkBOylgTw08nEC0pNdLe1eS0TfFB3prZBxZCEmkeVS48oBIMzZAE4OTFXCshi9XUvEZABpyXKdKXls9nTrFN47FoSZBZAfSpNjZBkL3kbSLZBwG5DngSK80G1pa0ZBus1s7MaLEvPenYPkHSsOs6FXZAbOJZBnIzisQP1nnco7NbFe44v60abo4AGZAcRHt9dZCewhpfsIeRkoyYuU1lQZC3KTAZDZD'\n",
    "\n",
    "params = {\n",
    "    'date_preset': 'last_year',\n",
    "}\n",
    "fields = [\n",
    "    'account_id',\n",
    "    'account_name',\n",
    "    'campaign_id',\n",
    "    'campaign_name',\n",
    "    'account_currency',\n",
    "    'reach',\n",
    "    'impressions',\n",
    "    'clicks',\n",
    "    'cpc',\n",
    "    'spend'\n",
    "]\n",
    "\n",
    "insights = campaign.get_insights(params=params)\n",
    "print (insights)"
   ]
  },
  {
   "cell_type": "code",
   "execution_count": 71,
   "metadata": {},
   "outputs": [
    {
     "name": "stdout",
     "output_type": "stream",
     "text": [
      "Requirement already satisfied: facebook-business in c:\\users\\tameemattar\\appdata\\local\\programs\\python\\python38\\lib\\site-packages (19.0.0)\n",
      "Requirement already satisfied: requests>=2.3.0 in c:\\users\\tameemattar\\appdata\\local\\programs\\python\\python38\\lib\\site-packages (from facebook-business) (2.28.1)\n",
      "Requirement already satisfied: six>=1.7.3 in c:\\users\\tameemattar\\appdata\\roaming\\python\\python38\\site-packages (from facebook-business) (1.16.0)\n",
      "Requirement already satisfied: curlify>=2.1.0 in c:\\users\\tameemattar\\appdata\\local\\programs\\python\\python38\\lib\\site-packages (from facebook-business) (2.2.1)\n",
      "Requirement already satisfied: pycountry>=19.8.18 in c:\\users\\tameemattar\\appdata\\local\\programs\\python\\python38\\lib\\site-packages (from facebook-business) (23.12.11)\n",
      "Requirement already satisfied: enum34 in c:\\users\\tameemattar\\appdata\\local\\programs\\python\\python38\\lib\\site-packages (from facebook-business) (1.1.10)\n",
      "Requirement already satisfied: aiohttp in c:\\users\\tameemattar\\appdata\\local\\programs\\python\\python38\\lib\\site-packages (from facebook-business) (3.9.3)\n",
      "Requirement already satisfied: importlib-resources<6.0.0,>=5.12.0 in c:\\users\\tameemattar\\appdata\\local\\programs\\python\\python38\\lib\\site-packages (from pycountry>=19.8.18->facebook-business) (5.13.0)\n",
      "Requirement already satisfied: charset-normalizer<3,>=2 in c:\\users\\tameemattar\\appdata\\local\\programs\\python\\python38\\lib\\site-packages (from requests>=2.3.0->facebook-business) (2.1.1)\n",
      "Requirement already satisfied: idna<4,>=2.5 in c:\\users\\tameemattar\\appdata\\local\\programs\\python\\python38\\lib\\site-packages (from requests>=2.3.0->facebook-business) (3.4)\n",
      "Requirement already satisfied: urllib3<1.27,>=1.21.1 in c:\\users\\tameemattar\\appdata\\local\\programs\\python\\python38\\lib\\site-packages (from requests>=2.3.0->facebook-business) (1.26.16)\n",
      "Requirement already satisfied: certifi>=2017.4.17 in c:\\users\\tameemattar\\appdata\\local\\programs\\python\\python38\\lib\\site-packages (from requests>=2.3.0->facebook-business) (2023.7.22)\n",
      "Requirement already satisfied: aiosignal>=1.1.2 in c:\\users\\tameemattar\\appdata\\local\\programs\\python\\python38\\lib\\site-packages (from aiohttp->facebook-business) (1.3.1)\n",
      "Requirement already satisfied: attrs>=17.3.0 in c:\\users\\tameemattar\\appdata\\local\\programs\\python\\python38\\lib\\site-packages (from aiohttp->facebook-business) (23.1.0)\n",
      "Requirement already satisfied: frozenlist>=1.1.1 in c:\\users\\tameemattar\\appdata\\local\\programs\\python\\python38\\lib\\site-packages (from aiohttp->facebook-business) (1.4.1)\n",
      "Requirement already satisfied: multidict<7.0,>=4.5 in c:\\users\\tameemattar\\appdata\\local\\programs\\python\\python38\\lib\\site-packages (from aiohttp->facebook-business) (6.0.5)\n",
      "Requirement already satisfied: yarl<2.0,>=1.0 in c:\\users\\tameemattar\\appdata\\local\\programs\\python\\python38\\lib\\site-packages (from aiohttp->facebook-business) (1.9.4)\n",
      "Requirement already satisfied: async-timeout<5.0,>=4.0 in c:\\users\\tameemattar\\appdata\\local\\programs\\python\\python38\\lib\\site-packages (from aiohttp->facebook-business) (4.0.3)\n",
      "Requirement already satisfied: zipp>=3.1.0 in c:\\users\\tameemattar\\appdata\\roaming\\python\\python38\\site-packages (from importlib-resources<6.0.0,>=5.12.0->pycountry>=19.8.18->facebook-business) (3.15.0)\n"
     ]
    }
   ],
   "source": [
    "!pip install facebook-business"
   ]
  },
  {
   "cell_type": "code",
   "execution_count": 73,
   "metadata": {},
   "outputs": [
    {
     "ename": "FacebookRequestError",
     "evalue": "\n\n  Message: Call was not successful\n  Method:  GET\n  Path:    https://graph.facebook.com/v19.0/act_<your-adaccount-id>/campaigns\n  Params:  {'summary': 'true'}\n\n  Status:  400\n  Response:\n    {\n      \"error\": {\n        \"message\": \"Invalid OAuth access token - Cannot parse access token\",\n        \"type\": \"OAuthException\",\n        \"code\": 190,\n        \"fbtrace_id\": \"A3XyE1oLFw51CLsD8wfnT21\"\n      }\n    }\n",
     "output_type": "error",
     "traceback": [
      "\u001b[1;31m---------------------------------------------------------------------------\u001b[0m",
      "\u001b[1;31mFacebookRequestError\u001b[0m                      Traceback (most recent call last)",
      "Cell \u001b[1;32mIn[73], line 9\u001b[0m\n\u001b[0;32m      7\u001b[0m FacebookAdsApi\u001b[38;5;241m.\u001b[39minit(my_app_id, my_app_secret, my_access_token)\n\u001b[0;32m      8\u001b[0m my_account \u001b[38;5;241m=\u001b[39m AdAccount(\u001b[38;5;124m'\u001b[39m\u001b[38;5;124mact_<your-adaccount-id>\u001b[39m\u001b[38;5;124m'\u001b[39m)\n\u001b[1;32m----> 9\u001b[0m campaigns \u001b[38;5;241m=\u001b[39m \u001b[43mmy_account\u001b[49m\u001b[38;5;241;43m.\u001b[39;49m\u001b[43mget_campaigns\u001b[49m\u001b[43m(\u001b[49m\u001b[43m)\u001b[49m\n\u001b[0;32m     10\u001b[0m \u001b[38;5;28mprint\u001b[39m(campaigns)\n",
      "File \u001b[1;32mc:\\Users\\TameemAttar\\AppData\\Local\\Programs\\Python\\Python38\\lib\\site-packages\\facebook_business\\adobjects\\adaccount.py:2326\u001b[0m, in \u001b[0;36mAdAccount.get_campaigns\u001b[1;34m(self, fields, params, batch, success, failure, pending)\u001b[0m\n\u001b[0;32m   2324\u001b[0m \u001b[38;5;28;01melse\u001b[39;00m:\n\u001b[0;32m   2325\u001b[0m     \u001b[38;5;28mself\u001b[39m\u001b[38;5;241m.\u001b[39massure_call()\n\u001b[1;32m-> 2326\u001b[0m     \u001b[38;5;28;01mreturn\u001b[39;00m \u001b[43mrequest\u001b[49m\u001b[38;5;241;43m.\u001b[39;49m\u001b[43mexecute\u001b[49m\u001b[43m(\u001b[49m\u001b[43m)\u001b[49m\n",
      "File \u001b[1;32mc:\\Users\\TameemAttar\\AppData\\Local\\Programs\\Python\\Python38\\lib\\site-packages\\facebook_business\\api.py:663\u001b[0m, in \u001b[0;36mFacebookRequest.execute\u001b[1;34m(self)\u001b[0m\n\u001b[0;32m    653\u001b[0m \u001b[38;5;28;01mif\u001b[39;00m \u001b[38;5;28mself\u001b[39m\u001b[38;5;241m.\u001b[39m_api_type \u001b[38;5;241m==\u001b[39m \u001b[38;5;124m\"\u001b[39m\u001b[38;5;124mEDGE\u001b[39m\u001b[38;5;124m\"\u001b[39m \u001b[38;5;129;01mand\u001b[39;00m \u001b[38;5;28mself\u001b[39m\u001b[38;5;241m.\u001b[39m_method \u001b[38;5;241m==\u001b[39m \u001b[38;5;124m\"\u001b[39m\u001b[38;5;124mGET\u001b[39m\u001b[38;5;124m\"\u001b[39m:\n\u001b[0;32m    654\u001b[0m     cursor \u001b[38;5;241m=\u001b[39m Cursor(\n\u001b[0;32m    655\u001b[0m         target_objects_class\u001b[38;5;241m=\u001b[39m\u001b[38;5;28mself\u001b[39m\u001b[38;5;241m.\u001b[39m_target_class,\n\u001b[0;32m    656\u001b[0m         params\u001b[38;5;241m=\u001b[39mparams,\n\u001b[1;32m   (...)\u001b[0m\n\u001b[0;32m    661\u001b[0m         endpoint\u001b[38;5;241m=\u001b[39m\u001b[38;5;28mself\u001b[39m\u001b[38;5;241m.\u001b[39m_endpoint,\n\u001b[0;32m    662\u001b[0m     )\n\u001b[1;32m--> 663\u001b[0m     \u001b[43mcursor\u001b[49m\u001b[38;5;241;43m.\u001b[39;49m\u001b[43mload_next_page\u001b[49m\u001b[43m(\u001b[49m\u001b[43m)\u001b[49m\n\u001b[0;32m    664\u001b[0m     \u001b[38;5;28;01mreturn\u001b[39;00m cursor\n\u001b[0;32m    665\u001b[0m \u001b[38;5;28;01mif\u001b[39;00m \u001b[38;5;28mself\u001b[39m\u001b[38;5;241m.\u001b[39m_fields:\n",
      "File \u001b[1;32mc:\\Users\\TameemAttar\\AppData\\Local\\Programs\\Python\\Python38\\lib\\site-packages\\facebook_business\\api.py:827\u001b[0m, in \u001b[0;36mCursor.load_next_page\u001b[1;34m(self)\u001b[0m\n\u001b[0;32m    820\u001b[0m \u001b[38;5;28;01mif\u001b[39;00m (\n\u001b[0;32m    821\u001b[0m     \u001b[38;5;28mself\u001b[39m\u001b[38;5;241m.\u001b[39m_include_summary \u001b[38;5;129;01mand\u001b[39;00m\n\u001b[0;32m    822\u001b[0m     \u001b[38;5;124m'\u001b[39m\u001b[38;5;124mdefault_summary\u001b[39m\u001b[38;5;124m'\u001b[39m \u001b[38;5;129;01mnot\u001b[39;00m \u001b[38;5;129;01min\u001b[39;00m \u001b[38;5;28mself\u001b[39m\u001b[38;5;241m.\u001b[39mparams \u001b[38;5;129;01mand\u001b[39;00m\n\u001b[0;32m    823\u001b[0m     \u001b[38;5;124m'\u001b[39m\u001b[38;5;124msummary\u001b[39m\u001b[38;5;124m'\u001b[39m \u001b[38;5;129;01mnot\u001b[39;00m \u001b[38;5;129;01min\u001b[39;00m \u001b[38;5;28mself\u001b[39m\u001b[38;5;241m.\u001b[39mparams\n\u001b[0;32m    824\u001b[0m ):\n\u001b[0;32m    825\u001b[0m     \u001b[38;5;28mself\u001b[39m\u001b[38;5;241m.\u001b[39mparams[\u001b[38;5;124m'\u001b[39m\u001b[38;5;124msummary\u001b[39m\u001b[38;5;124m'\u001b[39m] \u001b[38;5;241m=\u001b[39m \u001b[38;5;28;01mTrue\u001b[39;00m\n\u001b[1;32m--> 827\u001b[0m response_obj \u001b[38;5;241m=\u001b[39m \u001b[38;5;28;43mself\u001b[39;49m\u001b[38;5;241;43m.\u001b[39;49m\u001b[43m_api\u001b[49m\u001b[38;5;241;43m.\u001b[39;49m\u001b[43mcall\u001b[49m\u001b[43m(\u001b[49m\n\u001b[0;32m    828\u001b[0m \u001b[43m    \u001b[49m\u001b[38;5;124;43m'\u001b[39;49m\u001b[38;5;124;43mGET\u001b[39;49m\u001b[38;5;124;43m'\u001b[39;49m\u001b[43m,\u001b[49m\n\u001b[0;32m    829\u001b[0m \u001b[43m    \u001b[49m\u001b[38;5;28;43mself\u001b[39;49m\u001b[38;5;241;43m.\u001b[39;49m\u001b[43m_path\u001b[49m\u001b[43m,\u001b[49m\n\u001b[0;32m    830\u001b[0m \u001b[43m    \u001b[49m\u001b[43mparams\u001b[49m\u001b[38;5;241;43m=\u001b[39;49m\u001b[38;5;28;43mself\u001b[39;49m\u001b[38;5;241;43m.\u001b[39;49m\u001b[43mparams\u001b[49m\u001b[43m,\u001b[49m\n\u001b[0;32m    831\u001b[0m \u001b[43m\u001b[49m\u001b[43m)\u001b[49m\n\u001b[0;32m    832\u001b[0m response \u001b[38;5;241m=\u001b[39m response_obj\u001b[38;5;241m.\u001b[39mjson()\n\u001b[0;32m    833\u001b[0m \u001b[38;5;28mself\u001b[39m\u001b[38;5;241m.\u001b[39m_headers \u001b[38;5;241m=\u001b[39m response_obj\u001b[38;5;241m.\u001b[39mheaders()\n",
      "File \u001b[1;32mc:\\Users\\TameemAttar\\AppData\\Local\\Programs\\Python\\Python38\\lib\\site-packages\\facebook_business\\api.py:336\u001b[0m, in \u001b[0;36mFacebookAdsApi.call\u001b[1;34m(self, method, path, params, headers, files, url_override, api_version)\u001b[0m\n\u001b[0;32m    322\u001b[0m fb_response \u001b[38;5;241m=\u001b[39m FacebookResponse(\n\u001b[0;32m    323\u001b[0m     body\u001b[38;5;241m=\u001b[39mresponse\u001b[38;5;241m.\u001b[39mtext,\n\u001b[0;32m    324\u001b[0m     headers\u001b[38;5;241m=\u001b[39mresponse\u001b[38;5;241m.\u001b[39mheaders,\n\u001b[1;32m   (...)\u001b[0m\n\u001b[0;32m    332\u001b[0m     },\n\u001b[0;32m    333\u001b[0m )\n\u001b[0;32m    335\u001b[0m \u001b[38;5;28;01mif\u001b[39;00m fb_response\u001b[38;5;241m.\u001b[39mis_failure():\n\u001b[1;32m--> 336\u001b[0m     \u001b[38;5;28;01mraise\u001b[39;00m fb_response\u001b[38;5;241m.\u001b[39merror()\n\u001b[0;32m    338\u001b[0m \u001b[38;5;28mself\u001b[39m\u001b[38;5;241m.\u001b[39m_num_requests_succeeded \u001b[38;5;241m+\u001b[39m\u001b[38;5;241m=\u001b[39m \u001b[38;5;241m1\u001b[39m\n\u001b[0;32m    339\u001b[0m \u001b[38;5;28;01mreturn\u001b[39;00m fb_response\n",
      "\u001b[1;31mFacebookRequestError\u001b[0m: \n\n  Message: Call was not successful\n  Method:  GET\n  Path:    https://graph.facebook.com/v19.0/act_<your-adaccount-id>/campaigns\n  Params:  {'summary': 'true'}\n\n  Status:  400\n  Response:\n    {\n      \"error\": {\n        \"message\": \"Invalid OAuth access token - Cannot parse access token\",\n        \"type\": \"OAuthException\",\n        \"code\": 190,\n        \"fbtrace_id\": \"A3XyE1oLFw51CLsD8wfnT21\"\n      }\n    }\n"
     ]
    }
   ],
   "source": [
    "from facebook_business.api import FacebookAdsApi\n",
    "from facebook_business.adobjects.adaccount import AdAccount\n",
    "\n",
    "my_app_id = '1371736896796825'\n",
    "my_app_secret = 'your-appsecret'\n",
    "my_access_token = 'your-page-access-token'\n",
    "FacebookAdsApi.init(my_app_id, my_app_secret, my_access_token)\n",
    "my_account = AdAccount('act_<your-adaccount-id>')\n",
    "campaigns = my_account.get_campaigns()\n",
    "print(campaigns)"
   ]
  },
  {
   "cell_type": "code",
   "execution_count": 78,
   "metadata": {},
   "outputs": [
    {
     "ename": "FacebookRequestError",
     "evalue": "\n\n  Message: Call was not successful\n  Method:  GET\n  Path:    https://graph.facebook.com/v19.0/act_<your-adaccount-id>/ads\n  Params:  {'summary': 'true'}\n\n  Status:  400\n  Response:\n    {\n      \"error\": {\n        \"message\": \"Invalid OAuth access token - Cannot parse access token\",\n        \"type\": \"OAuthException\",\n        \"code\": 190,\n        \"fbtrace_id\": \"AExIjaE2-OqcJsNz2cIQRQ5\"\n      }\n    }\n",
     "output_type": "error",
     "traceback": [
      "\u001b[1;31m---------------------------------------------------------------------------\u001b[0m",
      "\u001b[1;31mFacebookRequestError\u001b[0m                      Traceback (most recent call last)",
      "Cell \u001b[1;32mIn[78], line 22\u001b[0m\n\u001b[0;32m      7\u001b[0m params \u001b[38;5;241m=\u001b[39m {\n\u001b[0;32m      8\u001b[0m     \u001b[38;5;124m'\u001b[39m\u001b[38;5;124mdate_preset\u001b[39m\u001b[38;5;124m'\u001b[39m: \u001b[38;5;124m'\u001b[39m\u001b[38;5;124mlast_year\u001b[39m\u001b[38;5;124m'\u001b[39m,\n\u001b[0;32m      9\u001b[0m }\n\u001b[0;32m     10\u001b[0m fields \u001b[38;5;241m=\u001b[39m [\n\u001b[0;32m     11\u001b[0m     \u001b[38;5;124m'\u001b[39m\u001b[38;5;124maccount_id\u001b[39m\u001b[38;5;124m'\u001b[39m,\n\u001b[0;32m     12\u001b[0m     \u001b[38;5;124m'\u001b[39m\u001b[38;5;124maccount_name\u001b[39m\u001b[38;5;124m'\u001b[39m,\n\u001b[1;32m   (...)\u001b[0m\n\u001b[0;32m     20\u001b[0m     \u001b[38;5;124m'\u001b[39m\u001b[38;5;124mspend\u001b[39m\u001b[38;5;124m'\u001b[39m\n\u001b[0;32m     21\u001b[0m ]\n\u001b[1;32m---> 22\u001b[0m campaigns \u001b[38;5;241m=\u001b[39m \u001b[43mmy_account\u001b[49m\u001b[38;5;241;43m.\u001b[39;49m\u001b[43mget_ads\u001b[49m\u001b[43m(\u001b[49m\u001b[43m)\u001b[49m\n\u001b[0;32m     23\u001b[0m \u001b[38;5;28mprint\u001b[39m(campaigns)\n",
      "File \u001b[1;32mc:\\Users\\TameemAttar\\AppData\\Local\\Programs\\Python\\Python38\\lib\\site-packages\\facebook_business\\adobjects\\adaccount.py:1141\u001b[0m, in \u001b[0;36mAdAccount.get_ads\u001b[1;34m(self, fields, params, batch, success, failure, pending)\u001b[0m\n\u001b[0;32m   1139\u001b[0m \u001b[38;5;28;01melse\u001b[39;00m:\n\u001b[0;32m   1140\u001b[0m     \u001b[38;5;28mself\u001b[39m\u001b[38;5;241m.\u001b[39massure_call()\n\u001b[1;32m-> 1141\u001b[0m     \u001b[38;5;28;01mreturn\u001b[39;00m \u001b[43mrequest\u001b[49m\u001b[38;5;241;43m.\u001b[39;49m\u001b[43mexecute\u001b[49m\u001b[43m(\u001b[49m\u001b[43m)\u001b[49m\n",
      "File \u001b[1;32mc:\\Users\\TameemAttar\\AppData\\Local\\Programs\\Python\\Python38\\lib\\site-packages\\facebook_business\\api.py:663\u001b[0m, in \u001b[0;36mFacebookRequest.execute\u001b[1;34m(self)\u001b[0m\n\u001b[0;32m    653\u001b[0m \u001b[38;5;28;01mif\u001b[39;00m \u001b[38;5;28mself\u001b[39m\u001b[38;5;241m.\u001b[39m_api_type \u001b[38;5;241m==\u001b[39m \u001b[38;5;124m\"\u001b[39m\u001b[38;5;124mEDGE\u001b[39m\u001b[38;5;124m\"\u001b[39m \u001b[38;5;129;01mand\u001b[39;00m \u001b[38;5;28mself\u001b[39m\u001b[38;5;241m.\u001b[39m_method \u001b[38;5;241m==\u001b[39m \u001b[38;5;124m\"\u001b[39m\u001b[38;5;124mGET\u001b[39m\u001b[38;5;124m\"\u001b[39m:\n\u001b[0;32m    654\u001b[0m     cursor \u001b[38;5;241m=\u001b[39m Cursor(\n\u001b[0;32m    655\u001b[0m         target_objects_class\u001b[38;5;241m=\u001b[39m\u001b[38;5;28mself\u001b[39m\u001b[38;5;241m.\u001b[39m_target_class,\n\u001b[0;32m    656\u001b[0m         params\u001b[38;5;241m=\u001b[39mparams,\n\u001b[1;32m   (...)\u001b[0m\n\u001b[0;32m    661\u001b[0m         endpoint\u001b[38;5;241m=\u001b[39m\u001b[38;5;28mself\u001b[39m\u001b[38;5;241m.\u001b[39m_endpoint,\n\u001b[0;32m    662\u001b[0m     )\n\u001b[1;32m--> 663\u001b[0m     \u001b[43mcursor\u001b[49m\u001b[38;5;241;43m.\u001b[39;49m\u001b[43mload_next_page\u001b[49m\u001b[43m(\u001b[49m\u001b[43m)\u001b[49m\n\u001b[0;32m    664\u001b[0m     \u001b[38;5;28;01mreturn\u001b[39;00m cursor\n\u001b[0;32m    665\u001b[0m \u001b[38;5;28;01mif\u001b[39;00m \u001b[38;5;28mself\u001b[39m\u001b[38;5;241m.\u001b[39m_fields:\n",
      "File \u001b[1;32mc:\\Users\\TameemAttar\\AppData\\Local\\Programs\\Python\\Python38\\lib\\site-packages\\facebook_business\\api.py:827\u001b[0m, in \u001b[0;36mCursor.load_next_page\u001b[1;34m(self)\u001b[0m\n\u001b[0;32m    820\u001b[0m \u001b[38;5;28;01mif\u001b[39;00m (\n\u001b[0;32m    821\u001b[0m     \u001b[38;5;28mself\u001b[39m\u001b[38;5;241m.\u001b[39m_include_summary \u001b[38;5;129;01mand\u001b[39;00m\n\u001b[0;32m    822\u001b[0m     \u001b[38;5;124m'\u001b[39m\u001b[38;5;124mdefault_summary\u001b[39m\u001b[38;5;124m'\u001b[39m \u001b[38;5;129;01mnot\u001b[39;00m \u001b[38;5;129;01min\u001b[39;00m \u001b[38;5;28mself\u001b[39m\u001b[38;5;241m.\u001b[39mparams \u001b[38;5;129;01mand\u001b[39;00m\n\u001b[0;32m    823\u001b[0m     \u001b[38;5;124m'\u001b[39m\u001b[38;5;124msummary\u001b[39m\u001b[38;5;124m'\u001b[39m \u001b[38;5;129;01mnot\u001b[39;00m \u001b[38;5;129;01min\u001b[39;00m \u001b[38;5;28mself\u001b[39m\u001b[38;5;241m.\u001b[39mparams\n\u001b[0;32m    824\u001b[0m ):\n\u001b[0;32m    825\u001b[0m     \u001b[38;5;28mself\u001b[39m\u001b[38;5;241m.\u001b[39mparams[\u001b[38;5;124m'\u001b[39m\u001b[38;5;124msummary\u001b[39m\u001b[38;5;124m'\u001b[39m] \u001b[38;5;241m=\u001b[39m \u001b[38;5;28;01mTrue\u001b[39;00m\n\u001b[1;32m--> 827\u001b[0m response_obj \u001b[38;5;241m=\u001b[39m \u001b[38;5;28;43mself\u001b[39;49m\u001b[38;5;241;43m.\u001b[39;49m\u001b[43m_api\u001b[49m\u001b[38;5;241;43m.\u001b[39;49m\u001b[43mcall\u001b[49m\u001b[43m(\u001b[49m\n\u001b[0;32m    828\u001b[0m \u001b[43m    \u001b[49m\u001b[38;5;124;43m'\u001b[39;49m\u001b[38;5;124;43mGET\u001b[39;49m\u001b[38;5;124;43m'\u001b[39;49m\u001b[43m,\u001b[49m\n\u001b[0;32m    829\u001b[0m \u001b[43m    \u001b[49m\u001b[38;5;28;43mself\u001b[39;49m\u001b[38;5;241;43m.\u001b[39;49m\u001b[43m_path\u001b[49m\u001b[43m,\u001b[49m\n\u001b[0;32m    830\u001b[0m \u001b[43m    \u001b[49m\u001b[43mparams\u001b[49m\u001b[38;5;241;43m=\u001b[39;49m\u001b[38;5;28;43mself\u001b[39;49m\u001b[38;5;241;43m.\u001b[39;49m\u001b[43mparams\u001b[49m\u001b[43m,\u001b[49m\n\u001b[0;32m    831\u001b[0m \u001b[43m\u001b[49m\u001b[43m)\u001b[49m\n\u001b[0;32m    832\u001b[0m response \u001b[38;5;241m=\u001b[39m response_obj\u001b[38;5;241m.\u001b[39mjson()\n\u001b[0;32m    833\u001b[0m \u001b[38;5;28mself\u001b[39m\u001b[38;5;241m.\u001b[39m_headers \u001b[38;5;241m=\u001b[39m response_obj\u001b[38;5;241m.\u001b[39mheaders()\n",
      "File \u001b[1;32mc:\\Users\\TameemAttar\\AppData\\Local\\Programs\\Python\\Python38\\lib\\site-packages\\facebook_business\\api.py:336\u001b[0m, in \u001b[0;36mFacebookAdsApi.call\u001b[1;34m(self, method, path, params, headers, files, url_override, api_version)\u001b[0m\n\u001b[0;32m    322\u001b[0m fb_response \u001b[38;5;241m=\u001b[39m FacebookResponse(\n\u001b[0;32m    323\u001b[0m     body\u001b[38;5;241m=\u001b[39mresponse\u001b[38;5;241m.\u001b[39mtext,\n\u001b[0;32m    324\u001b[0m     headers\u001b[38;5;241m=\u001b[39mresponse\u001b[38;5;241m.\u001b[39mheaders,\n\u001b[1;32m   (...)\u001b[0m\n\u001b[0;32m    332\u001b[0m     },\n\u001b[0;32m    333\u001b[0m )\n\u001b[0;32m    335\u001b[0m \u001b[38;5;28;01mif\u001b[39;00m fb_response\u001b[38;5;241m.\u001b[39mis_failure():\n\u001b[1;32m--> 336\u001b[0m     \u001b[38;5;28;01mraise\u001b[39;00m fb_response\u001b[38;5;241m.\u001b[39merror()\n\u001b[0;32m    338\u001b[0m \u001b[38;5;28mself\u001b[39m\u001b[38;5;241m.\u001b[39m_num_requests_succeeded \u001b[38;5;241m+\u001b[39m\u001b[38;5;241m=\u001b[39m \u001b[38;5;241m1\u001b[39m\n\u001b[0;32m    339\u001b[0m \u001b[38;5;28;01mreturn\u001b[39;00m fb_response\n",
      "\u001b[1;31mFacebookRequestError\u001b[0m: \n\n  Message: Call was not successful\n  Method:  GET\n  Path:    https://graph.facebook.com/v19.0/act_<your-adaccount-id>/ads\n  Params:  {'summary': 'true'}\n\n  Status:  400\n  Response:\n    {\n      \"error\": {\n        \"message\": \"Invalid OAuth access token - Cannot parse access token\",\n        \"type\": \"OAuthException\",\n        \"code\": 190,\n        \"fbtrace_id\": \"AExIjaE2-OqcJsNz2cIQRQ5\"\n      }\n    }\n"
     ]
    }
   ],
   "source": [
    "from facebook_business.api import FacebookAdsApi\n",
    "from facebook_business.adobjects.adaccount import AdAccount\n",
    "\n",
    "campaign = AdAccount('701970735050548')\n",
    "access_token = 'yEAATflmJ1eJkBOylgTw08nEC0pNdLe1eS0TfFB3prZBxZCEmkeVS48oBIMzZAE4OTFXCshi9XUvEZABpyXKdKXls9nTrFN47FoSZBZAfSpNjZBkL3kbSLZBwG5DngSK80G1pa0ZBus1s7MaLEvPenYPkHSsOs6FXZAbOJZBnIzisQP1nnco7NbFe44v60abo4AGZAcRHt9dZCewhpfsIeRkoyYuU1lQZC3KTAZDZD'\n",
    "\n",
    "params = {\n",
    "    'date_preset': 'last_year',\n",
    "}\n",
    "fields = [\n",
    "    'account_id',\n",
    "    'account_name',\n",
    "    'campaign_id',\n",
    "    'campaign_name',\n",
    "    'account_currency',\n",
    "    'reach',\n",
    "    'impressions',\n",
    "    'clicks',\n",
    "    'cpc',\n",
    "    'spend'\n",
    "]\n",
    "campaigns = my_account.get_ads()\n",
    "print(campaigns)"
   ]
  },
  {
   "cell_type": "code",
   "execution_count": 90,
   "metadata": {},
   "outputs": [
    {
     "name": "stdout",
     "output_type": "stream",
     "text": [
      "<AdsInsights> {\n",
      "    \"account_currency\": \"BRL\",\n",
      "    \"account_id\": \"701970735050548\",\n",
      "    \"account_name\": \"[Mastecard] PicPay - Cr\\u00e9dito Garantido\",\n",
      "    \"campaign_id\": \"23857298773760177\",\n",
      "    \"campaign_name\": \"jussi_pp-master_reposicionamento__institucional_awareness_fb-ig_social\",\n",
      "    \"clicks\": \"185830\",\n",
      "    \"cpc\": \"1.54727\",\n",
      "    \"date_start\": \"2023-01-01\",\n",
      "    \"date_stop\": \"2023-12-31\",\n",
      "    \"impressions\": \"163146752\",\n",
      "    \"reach\": \"57803553\",\n",
      "    \"spend\": \"287529.27\"\n",
      "}\n",
      "<AdsInsights> {\n",
      "    \"account_currency\": \"BRL\",\n",
      "    \"account_id\": \"701970735050548\",\n",
      "    \"account_name\": \"[Mastecard] PicPay - Cr\\u00e9dito Garantido\",\n",
      "    \"campaign_id\": \"23857586243150177\",\n",
      "    \"campaign_name\": \"jussi_pp-master_reposicionamento__institucional_aquisicao_fb-ig_social\",\n",
      "    \"clicks\": \"492566\",\n",
      "    \"cpc\": \"1.913038\",\n",
      "    \"date_start\": \"2023-01-01\",\n",
      "    \"date_stop\": \"2023-12-31\",\n",
      "    \"impressions\": \"133835215\",\n",
      "    \"reach\": \"20883917\",\n",
      "    \"spend\": \"942297.69\"\n",
      "}\n",
      "<AdsInsights> {\n",
      "    \"account_currency\": \"BRL\",\n",
      "    \"account_id\": \"701970735050548\",\n",
      "    \"account_name\": \"[Mastecard] PicPay - Cr\\u00e9dito Garantido\",\n",
      "    \"campaign_id\": \"23861756909470177\",\n",
      "    \"campaign_name\": \"jussi_pp-master_reposicionamento__institucional_performance_fb-ig_social\",\n",
      "    \"clicks\": \"191350\",\n",
      "    \"cpc\": \"1.672328\",\n",
      "    \"date_start\": \"2023-01-01\",\n",
      "    \"date_stop\": \"2023-12-31\",\n",
      "    \"impressions\": \"41787641\",\n",
      "    \"reach\": \"8930298\",\n",
      "    \"spend\": \"320000\"\n",
      "}\n",
      "<AdsInsights> {\n",
      "    \"account_currency\": \"BRL\",\n",
      "    \"account_id\": \"701970735050548\",\n",
      "    \"account_name\": \"[Mastecard] PicPay - Cr\\u00e9dito Garantido\",\n",
      "    \"campaign_id\": \"120200499753020178\",\n",
      "    \"campaign_name\": \"jussi_pp-master_reposicionamento__institucional_performance_fb-ig_social_teste\",\n",
      "    \"clicks\": \"24561\",\n",
      "    \"cpc\": \"2.526136\",\n",
      "    \"date_start\": \"2023-01-01\",\n",
      "    \"date_stop\": \"2023-12-31\",\n",
      "    \"impressions\": \"7059183\",\n",
      "    \"reach\": \"2410552\",\n",
      "    \"spend\": \"62044.42\"\n",
      "}\n",
      "<AdsInsights> {\n",
      "    \"account_currency\": \"BRL\",\n",
      "    \"account_id\": \"701970735050548\",\n",
      "    \"account_name\": \"[Mastecard] PicPay - Cr\\u00e9dito Garantido\",\n",
      "    \"campaign_id\": \"120201866166750178\",\n",
      "    \"campaign_name\": \"jussi_pp-master_reposicionamento__institucional_performance_fb-ig_social_advantagecampaing Campanha\",\n",
      "    \"clicks\": \"46035\",\n",
      "    \"cpc\": \"2.100032\",\n",
      "    \"date_start\": \"2023-01-01\",\n",
      "    \"date_stop\": \"2023-12-31\",\n",
      "    \"impressions\": \"43428654\",\n",
      "    \"reach\": \"11049040\",\n",
      "    \"spend\": \"96674.96\"\n",
      "}\n"
     ]
    }
   ],
   "source": [
    "from facebook_business.api import FacebookAdsApi\n",
    "\n",
    "# Initialize the API\n",
    "my_app_id = '1371736896796825'\n",
    "my_app_secret = 'efde6d1687b99bae034a6497d991c3d2'\n",
    "my_access_token = 'EAATflmJ1eJkBO58s8ZAkcDw1gSpuywhWPlvPXP9z7rMIinZBErZCvu01ZCPzLkLWVNHJ4Gs5LZCzj5wNUe4jJcwOuLzwpuTtHzo5NPgRq4TocEvycWKq7V0MJERc6boM5eBBXyt0tMj4huY7ILZAUdZC7svZCLbnmVh99uWNG287GkgCC33MgRJsSzdWY4vup0Yr7ZBTgZBZBDZBtlVYutv8b57WDSy6ZCAZDZD'\n",
    "FacebookAdsApi.init(my_app_id, my_app_secret, my_access_token)\n",
    "\n",
    "# Define the ad account ID\n",
    "ad_account_id = 'act_701970735050548'  # replace with your ad account id\n",
    "\n",
    "# Define the fields\n",
    "fields = [\n",
    "    'account_id',\n",
    "    'account_name',\n",
    "    'campaign_id',\n",
    "    'campaign_name',\n",
    "    'account_currency',\n",
    "    'reach',\n",
    "    'impressions',\n",
    "    'clicks',\n",
    "    'cpc',\n",
    "    'spend'\n",
    "]\n",
    "\n",
    "# Define the parameters\n",
    "params = {\n",
    "    'level': 'campaign',\n",
    "    'date_preset': 'last_year',\n",
    "}\n",
    "\n",
    "# Fetch the insights\n",
    "from facebook_business.adobjects.adaccount import AdAccount\n",
    "ad_account = AdAccount(fbid=ad_account_id)\n",
    "insights = ad_account.get_insights(fields=fields, params=params)\n",
    "\n",
    "# Print the insights\n",
    "for insight in insights:\n",
    "    print(insight)\n"
   ]
  },
  {
   "cell_type": "code",
   "execution_count": 89,
   "metadata": {},
   "outputs": [
    {
     "name": "stdout",
     "output_type": "stream",
     "text": [
      "[<Campaign> {\n",
      "    \"id\": \"120201866166750178\"\n",
      "}, <Campaign> {\n",
      "    \"id\": \"120200499753020178\"\n",
      "}, <Campaign> {\n",
      "    \"id\": \"23861756909470177\"\n",
      "}, <Campaign> {\n",
      "    \"id\": \"23857586243150177\"\n",
      "}, <Campaign> {\n",
      "    \"id\": \"23857298773760177\"\n",
      "}]\n"
     ]
    }
   ],
   "source": [
    "from facebook_business.api import FacebookAdsApi\n",
    "from facebook_business.adobjects.adaccount import AdAccount\n",
    "\n",
    "my_app_id = '1371736896796825'\n",
    "my_app_secret = 'efde6d1687b99bae034a6497d991c3d2'\n",
    "my_access_token = 'EAATflmJ1eJkBO58s8ZAkcDw1gSpuywhWPlvPXP9z7rMIinZBErZCvu01ZCPzLkLWVNHJ4Gs5LZCzj5wNUe4jJcwOuLzwpuTtHzo5NPgRq4TocEvycWKq7V0MJERc6boM5eBBXyt0tMj4huY7ILZAUdZC7svZCLbnmVh99uWNG287GkgCC33MgRJsSzdWY4vup0Yr7ZBTgZBZBDZBtlVYutv8b57WDSy6ZCAZDZD'\n",
    "\n",
    "FacebookAdsApi.init(my_app_id, my_app_secret, my_access_token)\n",
    "my_account = AdAccount('act_701970735050548')\n",
    "campaigns = my_account.get_campaigns()\n",
    "print(campaigns)"
   ]
  },
  {
   "cell_type": "code",
   "execution_count": null,
   "metadata": {},
   "outputs": [],
   "source": [
    "import requests\n",
    "from datetime import datetime, timedelta\n",
    "import pandas as pd\n",
    "\n",
    "# Initialize parameters\n",
    "my_app_id = ''\n",
    "my_app_secret = ''\n",
    "my_access_token = ''\n",
    "ad_account_id = 'act_701970735050548'\n",
    "base_url = 'https://graph.facebook.com/v12.0'\n",
    "\n",
    "# Specify the fields to fetch for insights\n",
    "insights_fields = ','.join([\n",
    "    'account_id',\n",
    "    'account_name',\n",
    "    'campaign_id',\n",
    "    'adset_id',\n",
    "    'ad_id',\n",
    "    'account_currency',\n",
    "    'reach',\n",
    "    'impressions',\n",
    "    'clicks',\n",
    "    'cpc',\n",
    "    'spend',\n",
    "    'date_start',\n",
    "    'date_stop'\n",
    "])\n",
    "\n",
    "# Specify the fields to fetch for campaigns\n",
    "campaign_fields = ','.join([\n",
    "    'id',\n",
    "    'name',\n",
    "    'status',\n",
    "    'effective_status',\n",
    "    'objective',\n",
    "    'start_time',\n",
    "    'stop_time'\n",
    "])\n",
    "\n",
    "# Specify the params for the last 6 months\n",
    "six_months_ago = datetime.now() - timedelta(days=365)\n",
    "params = {\n",
    "    'level': 'campaign',\n",
    "    'time_range': {'since': six_months_ago.strftime('%Y-%m-%d'), 'until': datetime.now().strftime('%Y-%m-%d')},\n",
    "    'time_increment': 1,  # Fetch day-wise data\n",
    "    'access_token': my_access_token\n",
    "}\n",
    "\n",
    "# Fetch the insights data\n",
    "insights_url = f\"{base_url}/{ad_account_id}/insights\"\n",
    "insights_response = requests.get(insights_url, params=params)\n",
    "insights_data = insights_response.json()['data']\n",
    "\n",
    "# Fetch the campaign data\n",
    "campaigns_url = f\"{base_url}/{ad_account_id}/campaigns\"\n",
    "campaigns_response = requests.get(campaigns_url, params={'fields': campaign_fields, 'access_token': my_access_token})\n",
    "campaigns_data = campaigns_response.json()['data']\n",
    "\n",
    "# Convert the insights data to a DataFrame and save to a CSV file\n",
    "insights_df = pd.DataFrame(insights_data)\n",
    "insights_df.to_csv('insights.csv', index=False)\n",
    "\n",
    "# Convert the campaign data to a DataFrame and save to a CSV file\n",
    "campaigns_df = pd.DataFrame(campaigns_data)\n",
    "campaigns_df.to_csv('campaigns.csv', index=False)\n",
    "\n",
    "print(\"Data saved to 'insights.csv' and 'campaigns.csv'\")\n"
   ]
  }
 ],
 "metadata": {
  "kernelspec": {
   "display_name": "Python 3",
   "language": "python",
   "name": "python3"
  },
  "language_info": {
   "codemirror_mode": {
    "name": "ipython",
    "version": 3
   },
   "file_extension": ".py",
   "mimetype": "text/x-python",
   "name": "python",
   "nbconvert_exporter": "python",
   "pygments_lexer": "ipython3",
   "version": "3.8.0"
  }
 },
 "nbformat": 4,
 "nbformat_minor": 2
}
